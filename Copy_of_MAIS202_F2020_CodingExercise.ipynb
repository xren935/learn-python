{
  "nbformat": 4,
  "nbformat_minor": 0,
  "metadata": {
    "colab": {
      "name": "Copy of MAIS202_F2020_CodingExercise.ipynb",
      "provenance": [],
      "collapsed_sections": [],
      "include_colab_link": true
    },
    "kernelspec": {
      "name": "python3",
      "display_name": "Python 3"
    }
  },
  "cells": [
    {
      "cell_type": "markdown",
      "metadata": {
        "id": "view-in-github",
        "colab_type": "text"
      },
      "source": [
        "<a href=\"https://colab.research.google.com/github/xren935/learn-python/blob/master/Copy_of_MAIS202_F2020_CodingExercise.ipynb\" target=\"_parent\"><img src=\"https://colab.research.google.com/assets/colab-badge.svg\" alt=\"Open In Colab\"/></a>"
      ]
    },
    {
      "cell_type": "markdown",
      "metadata": {
        "id": "BrOU6Q5yLB7l",
        "colab_type": "text"
      },
      "source": [
        "# MAIS 202 Fall 2020 Coding Exercise"
      ]
    },
    {
      "cell_type": "markdown",
      "metadata": {
        "id": "GWmXA7Y2CpXm",
        "colab_type": "text"
      },
      "source": [
        "[Application](http://tiny.cc/mais202-w2020-app)\n",
        "\n",
        "[Course Syllabus](http://tiny.cc/mais202-w2020-syllabus)"
      ]
    },
    {
      "cell_type": "markdown",
      "metadata": {
        "id": "ndY3n2f3GDGU",
        "colab_type": "text"
      },
      "source": [
        "## Instructions\n",
        " Make a copy of this notebook into your personal Google Drive account.\n",
        "Make sure to make this notebook public by 11:59 pm, September 9th, 2020 in order to be evaluated.\n",
        "If you have any questions regarding this challenge, please reach out to us through our [Facebook Page](https://www.facebook.com/McGillAI/)."
      ]
    },
    {
      "cell_type": "markdown",
      "metadata": {
        "id": "j6hnKFVl_q1Y",
        "colab_type": "text"
      },
      "source": [
        "## Questions\n",
        "* [Part 1](#scrollTo=QYskRrWJEwZH)\n",
        "* [Part 2 Task 1](#scrollTo=yl9IKD31K-J0)\n",
        "* [Part 2 Task 2](#scrollTo=t_xY3228qPmP)"
      ]
    },
    {
      "cell_type": "markdown",
      "metadata": {
        "id": "ihcWx8XBBrpY",
        "colab_type": "text"
      },
      "source": [
        "## Part 1"
      ]
    },
    {
      "cell_type": "markdown",
      "metadata": {
        "id": "nq51RVvoBtUc",
        "colab_type": "text"
      },
      "source": [
        "This part asks you to analyze a dataset using libraries.\n",
        "To learn more about movies grosses, we have provided you with two csv's: `movies_data.csv` and `genre_data.csv`.\n",
        "The urls to the files are\n",
        "```\n",
        "https://raw.githubusercontent.com/williamykzhang/MAIS_CE/master/genre_data.csv\n",
        "```\n",
        "and\n",
        "```\n",
        "https://raw.githubusercontent.com/williamykzhang/MAIS_CE/master/movies_data.csv\n",
        "```\n",
        "The file `movies_data.csv` contains information about movies such as their title, imdb rating, length, rank, rating, studio, worldwide gross, and year in a comma seperated format as shown below.\n",
        "![CSV example 1](https://user-images.githubusercontent.com/10730760/71313653-b9478880-2409-11ea-8745-a58909dcbd0f.png)\n",
        "\n",
        "The file `genre_data.csv` contains the genre for each movie in the `movies_data.csv` file, as shown below.\n",
        "![CSV example 2](https://user-images.githubusercontent.com/10730760/71313662-d3816680-2409-11ea-94c7-6795663ef8e3.png)\n",
        "\n",
        "Your challenge is as follows:\n",
        "\n",
        "1. In the provided cell, load the datasets from their urls, parse the information and determine the average worldwide gross for each of the genres using the **pandas** library. https://pandas.pydata.org/.\n",
        "2. Plot the results onto a graph using the **matplotlib** library. https://matplotlib.org/.\n",
        "\n",
        "**Note.** You are not allowed to use other libraries, and you are required to write all the code in the following cell. You are also not allowed to run bash commands. You must use the libraries we ask you to use.\n",
        "\n"
      ]
    },
    {
      "cell_type": "code",
      "metadata": {
        "id": "QYskRrWJEwZH",
        "colab_type": "code",
        "colab": {
          "base_uri": "https://localhost:8080/",
          "height": 803
        },
        "outputId": "03e13b99-c2b7-45ab-8f62-6f2ca5954b98"
      },
      "source": [
        "import pandas as pd\n",
        "from io import StringIO\n",
        "import requests \n",
        "import matplotlib.pyplot as plt\n",
        "\n",
        "# get movie data\n",
        "movies_url = \"https://raw.githubusercontent.com/williamykzhang/MAIS_CE/master/movies_data.csv\"\n",
        "read_movies_data = requests.get(movies_url).content\n",
        "movies_data = pd.read_csv(StringIO(read_movies_data.decode('utf-8')))\n",
        "\n",
        "# get genre data \n",
        "genre_url = \"https://raw.githubusercontent.com/williamykzhang/MAIS_CE/master/genre_data.csv\"\n",
        "read_genre_data = requests.get(genre_url).content\n",
        "genre_data = pd.read_csv(StringIO(read_genre_data.decode('utf-8')))\n",
        "\n",
        "# merge the two tables\n",
        "merged = movies_data.merge(genre_data, on='title')\n",
        "\n",
        "# parse worldwide_gross\n",
        "merged['worldwide_gross'] = merged['worldwide_gross'].replace({'\\$': '', ',': ''}, regex=True)\n",
        "\n",
        "# group by genre and find the mean of the worldwide_gross of each group\n",
        "merged = merged.assign(worldwide_gross=pd.to_numeric(merged['worldwide_gross'])).groupby('Main_Genre')['worldwide_gross'].mean().reset_index()\n",
        "merged = pd.DataFrame(merged)\n",
        "print(merged)\n",
        "\n",
        "# plot it! \n",
        "# get the list of worldwide_gross, which will be the y-axis\n",
        "gross = merged['worldwide_gross']\n",
        "gross_list = [] \n",
        "for g in gross:\n",
        "    parsed = float(g)/(10**8)\n",
        "    gross_list.append(parsed)\n",
        "\n",
        "ypos = list(range(16))\n",
        "# get the genres, which will be the x-axis \n",
        "genres = merged['Main_Genre']\n",
        "genre_list = []\n",
        "for genre in genres: \n",
        "  genre_list.append(genre)\n",
        "# set the size of the plot, because otherwise the x labels overlap\n",
        "f, ax = plt.subplots(figsize=(20,8))\n",
        "ax = plt.axes()\n",
        "# Setting the background color\n",
        "ax.set_facecolor(\"azure\")\n",
        "plt.ylabel(\"worldwide_gross\")\n",
        "plt.xlabel(\"Main_Genre\")\n",
        "plt.title(\"Average worldwide gross\")\n",
        "plt.xticks(ypos, genres)\n",
        "plt.bar(ypos, gross_list)\n",
        "plt.show()\n"
      ],
      "execution_count": 85,
      "outputs": [
        {
          "output_type": "stream",
          "text": [
            "   Main_Genre  worldwide_gross\n",
            "0      Action     3.865555e+08\n",
            "1   Adventure     5.450808e+08\n",
            "2   Animation     5.269178e+08\n",
            "3      Comedy     3.766985e+08\n",
            "4       Crime     2.073900e+08\n",
            "5       Drama     2.752192e+08\n",
            "6      Family     2.315848e+08\n",
            "7     Fantasy     6.691673e+08\n",
            "8     History     2.522713e+08\n",
            "9      Horror     1.761020e+08\n",
            "10      Music     2.181311e+08\n",
            "11    Romance     2.653120e+08\n",
            "12     Sci-Fi     5.172855e+08\n",
            "13      Sport     9.804416e+07\n",
            "14   Thriller     3.563895e+08\n",
            "15        War     1.699709e+08\n"
          ],
          "name": "stdout"
        },
        {
          "output_type": "display_data",
          "data": {
            "image/png": "[encoded data removed]",
            "text/plain": [
              "<Figure size 1440x576 with 1 Axes>"
            ]
          },
          "metadata": {
            "tags": [],
            "needs_background": "light"
          }
        }
      ]
    },
    {
      "cell_type": "markdown",
      "metadata": {
        "id": "OJ9JDKpBFjMP",
        "colab_type": "text"
      },
      "source": [
        "The output of the cell should be similar to the results shown below.\n",
        "\n",
        "\n",
        "![results1](https://raw.githubusercontent.com/williamykzhang/MAIS_CE/master/picture_2.png)\n",
        "![results2](https://raw.githubusercontent.com/williamykzhang/MAIS_CE/master/picture_3.png)"
      ]
    },
    {
      "cell_type": "markdown",
      "metadata": {
        "id": "-VmgvHMbLJtD",
        "colab_type": "text"
      },
      "source": [
        "## Part 2"
      ]
    },
    {
      "cell_type": "markdown",
      "metadata": {
        "id": "XmKUKjJZnQJm",
        "colab_type": "text"
      },
      "source": [
        "For the second half of the coding challenge, you are not allowed to use libraries.\n",
        "More specifically, you are not allowed to use imported code from the standard library nor from external libraries."
      ]
    },
    {
      "cell_type": "markdown",
      "metadata": {
        "id": "hNjqnOCknIOM",
        "colab_type": "text"
      },
      "source": [
        "### First Task"
      ]
    },
    {
      "cell_type": "markdown",
      "metadata": {
        "id": "wL4DFYslLPgM",
        "colab_type": "text"
      },
      "source": [
        "Your first task is to write a helper function `to_grade_point` which converts a grade out of 100 into a `tuple` whose first entry is a string representing the letter grade and whose second entry is a float representing the Grade Points.\n",
        "\n",
        "\n",
        "![Letter Grade Table](https://i.ibb.co/WnvbXL1/table.png)\n",
        "\n",
        "\n",
        "**Note.** Inputs are assumed to be valid. That is, inputs will be integers from 0 to 100 inclusive."
      ]
    },
    {
      "cell_type": "code",
      "metadata": {
        "id": "yl9IKD31K-J0",
        "colab_type": "code",
        "colab": {}
      },
      "source": [
        "# i.e. to_grade_point(85) -> [\"A\", 4.0] \n",
        "def to_grade_point(numgrade):\n",
        "  lettergrd = \"F\"\n",
        "  floatgrd = 0.0 \n",
        "  \n",
        "  if(numgrade >= 60 and numgrade <= 64):\n",
        "    lettergrd = \"C+\"\n",
        "    floatgrd = 2.3\n",
        "  elif(numgrade >= 65 and numgrade <= 69): \n",
        "    lettergrd = \"B-\"\n",
        "    floatgrd = 2.7\n",
        "  elif(numgrade >= 70 and numgrade <= 74): \n",
        "    lettergrd = \"B\"\n",
        "    floatgrd = 3.0\n",
        "  elif(numgrade >= 75 and numgrade <= 79): \n",
        "    lettergrd = \"B+\"\n",
        "    floatgrd = 3.3\n",
        "  elif(numgrade >= 80 and numgrade <= 84): \n",
        "    lettergrd = \"A-\"\n",
        "    floatgrd = 3.7\n",
        "  elif(numgrade >= 85 and numgrade <= 100): \n",
        "    lettergrd = \"A\"\n",
        "    floatgrd = 4.0\n",
        "  else:\n",
        "    lettergrd = \"F\"\n",
        "    floatgrd = 0.0\n",
        "\n",
        "  grdtuple = [lettergrd, floatgrd]\n",
        "  \n",
        "  return grdtuple\n",
        "\n"
      ],
      "execution_count": 91,
      "outputs": []
    },
    {
      "cell_type": "markdown",
      "metadata": {
        "id": "zYwXZLWQiSp4",
        "colab_type": "text"
      },
      "source": [
        "You can test your code with the following snippet.\n",
        "If your code is correct, you should see\n",
        "\n",
        "![Example Code 1](https://i.ibb.co/4F9mP9Y/code1.png)"
      ]
    },
    {
      "cell_type": "code",
      "metadata": {
        "id": "MpZEmQ6WiPNY",
        "colab_type": "code",
        "colab": {
          "base_uri": "https://localhost:8080/",
          "height": 153
        },
        "outputId": "e3efe5cd-a5a3-4226-d01a-b7619ea9462e"
      },
      "source": [
        "for grade in [0, 99, 80, 85, 84, 60, 59, 74]:\n",
        "  print(\"{} -> {}\".format(grade, to_grade_point(grade)))"
      ],
      "execution_count": 92,
      "outputs": [
        {
          "output_type": "stream",
          "text": [
            "0 -> ['F', 0.0]\n",
            "99 -> ['A', 4.0]\n",
            "80 -> ['A-', 3.7]\n",
            "85 -> ['A', 4.0]\n",
            "84 -> ['A-', 3.7]\n",
            "60 -> ['C+', 2.3]\n",
            "59 -> ['F', 0.0]\n",
            "74 -> ['B', 3.0]\n"
          ],
          "name": "stdout"
        }
      ]
    },
    {
      "cell_type": "markdown",
      "metadata": {
        "id": "4h1sMQu_nk6a",
        "colab_type": "text"
      },
      "source": [
        "### Second Task"
      ]
    },
    {
      "cell_type": "markdown",
      "metadata": {
        "id": "HE0IwJBNnrbG",
        "colab_type": "text"
      },
      "source": [
        "Your second task is to write a class named `GradeRecords` with a certain specification.\n",
        "This part will use the helper function defined in the first part so make sure to do that first.\n",
        "\n",
        "A `GradeRecords` object has the following attributes:\n",
        "* `term`, a string representing the current semester;\n",
        "* `grades`, a `list` object containing `tuples`, where the first entry of each tuple is a string representing the code of the class, the second entry of each tuple is the grade out of 100, and the third entry is the number of credits for this course. `grades` can be initialized (see below) as an empty list.\n",
        "* `num_courses` an `int` which contains the number of courses in the record. This can be initialized as 0.\n",
        "\n",
        "\n",
        "**Note.** You are not allowed to add more attributes.\n",
        "\n",
        "Furthermore, a `GradeRecords` object has the following methods:\n",
        "* an initialization method which takes as input the current term and initializes the three attributes;\n",
        "* `add_course`, a method which takes a string representing the course code, an int for the grade out of 100 and the number of credits. The method adds a new tuple to `grades`.\n",
        "* `get_best_courses`, a method which takes no parameters and outputs a list of course codes with the best grades. For instance, if the best grade is a 'B', it will output all course codes with a 'B', i.e. all courses codes with a grade between 70 and 74 (inclusive). You are required to use the helper function defined in the first part.\n",
        "* `get_GPA`, a method which outputs the Grade Point Average for the semester, assuming all classes all weighted by the number of credits. You are required to use the helper function from the first task. Round it to one decimal place.\n",
        "* `to_dict`, a method which returns a dict whose keys are the class codes and whose corresponding values are the letter grades. Once again, you must use the helper function from the first task.\n",
        "\n",
        "**Note.** All inputs are assumed to be valid. Particularly, you may assume there won't be duplicate class codes."
      ]
    },
    {
      "cell_type": "code",
      "metadata": {
        "id": "t_xY3228qPmP",
        "colab_type": "code",
        "colab": {}
      },
      "source": [
        "class GradeRecords:\n",
        "  term = \"Fall2020\" # a string representing the current semester \n",
        "  grades = [] # a list of [string, float, float] tuples \n",
        "  num_courses = 0 # an int represeing the no. of courses \n",
        "\n",
        "  def __init__(self, currterm):\n",
        "    self.term = currterm\n",
        "    self.grades = []\n",
        "    self.num_courses = 0\n",
        "  \n",
        "  def add_course(self, courseCode, numGrade, credit):\n",
        "    grade = [courseCode, numGrade, credit]\n",
        "    self.grades.append(grade)\n",
        "    self.num_courses += 1\n",
        "\n",
        "  def get_best_courses(self):\n",
        "    bestgrade = 0.0\n",
        "    bestCourses = []\n",
        "    # get the best grade \n",
        "    for g in self.grades:\n",
        "      currGrd = float(g[1]) \n",
        "      if(currGrd > float(bestgrade)):\n",
        "        bestgrade = currGrd\n",
        "    # add all courses with the best letter grade \n",
        "    bestLetterGrade = to_grade_point(bestgrade)[0]\n",
        "    for g in self.grades:\n",
        "      if(to_grade_point(g[1])[0] == bestLetterGrade):\n",
        "        bestCourses.append(g[0])\n",
        "    return bestCourses\n",
        "\n",
        "  def get_GPA(self):\n",
        "    totalCredits = 0 \n",
        "    cgpa = 0 \n",
        "    # get total credits\n",
        "    for g in self.grades:\n",
        "      totalCredits += g[2]\n",
        "\n",
        "    for g in self.grades: \n",
        "      currGPA = to_grade_point(g[1])[1]\n",
        "      cgpa +=  (currGPA * g[2])/totalCredits\n",
        "    return round(cgpa,1)\n",
        "\n",
        "  def to_dict(self):\n",
        "    #  returns a dict whose keys are the class codes and whose corresponding values are the letter grades\n",
        "    grdDict = {} \n",
        "    for g in self.grades: \n",
        "      grdDict[g[0]] = to_grade_point(g[1])[0]\n",
        "    return grdDict\n",
        "  \n"
      ],
      "execution_count": 86,
      "outputs": []
    },
    {
      "cell_type": "markdown",
      "metadata": {
        "id": "CHoqh6O6qP6F",
        "colab_type": "text"
      },
      "source": [
        "You can test your code with the following snippet. If your code is correct you should see\n",
        "\n",
        "![code example 2](https://i.ibb.co/xCPCWyy/code2.png)"
      ]
    },
    {
      "cell_type": "code",
      "metadata": {
        "id": "AUcO4WNB7mDa",
        "colab_type": "code",
        "colab": {
          "base_uri": "https://localhost:8080/",
          "height": 272
        },
        "outputId": "a0c9b688-7060-4a57-d54c-a8a10185b26f"
      },
      "source": [
        "gr = GradeRecords(\"Fall 2019\")\n",
        "print(\"First batch\")\n",
        "print(\"Term: {}\".format(gr.term))\n",
        "\n",
        "gr.add_course(\"COMP 202\", 83, 3)\n",
        "gr.add_course(\"CLAS 203\", 75, 3)\n",
        "gr.add_course(\"LING 360\", 81, 3)\n",
        "\n",
        "print(\"Number of courses: {}\".format(gr.num_courses))\n",
        "print(\"Best courses: {}\".format(gr.get_best_courses()))\n",
        "print(\"GPA: {}\".format(gr.get_GPA()))\n",
        "print(\"Dictionary: {}\".format(gr.to_dict()))\n",
        "\n",
        "print() \n",
        "\n",
        "print(\"Second batch\")\n",
        "print(\"Term: {}\".format(gr.term))\n",
        "\n",
        "gr.add_course(\"COMP 551\", 67, 4)\n",
        "gr.add_course(\"HIST 318\", 88, 3)\n",
        "\n",
        "print(\"Number of courses: {}\".format(gr.num_courses))\n",
        "print(\"Best courses: {}\".format(gr.get_best_courses()))\n",
        "print(\"GPA: {}\".format(gr.get_GPA()))\n",
        "print(\"Dictionary: {}\".format(gr.to_dict()))\n",
        "\n",
        "print(\"\\nTHANK YOU! :)\")\n"
      ],
      "execution_count": 87,
      "outputs": [
        {
          "output_type": "stream",
          "text": [
            "First batch\n",
            "Term: Fall 2019\n",
            "Number of courses: 3\n",
            "Best courses: ['COMP 202', 'LING 360']\n",
            "GPA: 3.6\n",
            "Dictionary: {'COMP 202': 'A-', 'CLAS 203': 'B+', 'LING 360': 'A-'}\n",
            "\n",
            "Second batch\n",
            "Term: Fall 2019\n",
            "Number of courses: 5\n",
            "Best courses: ['HIST 318']\n",
            "GPA: 3.4\n",
            "Dictionary: {'COMP 202': 'A-', 'CLAS 203': 'B+', 'LING 360': 'A-', 'COMP 551': 'B-', 'HIST 318': 'A'}\n",
            "\n",
            "THANK YOU! :)\n"
          ],
          "name": "stdout"
        }
      ]
    }
  ]
}